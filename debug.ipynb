{
 "cells": [
  {
   "cell_type": "code",
   "execution_count": 3,
   "metadata": {},
   "outputs": [
    {
     "ename": "AttributeError",
     "evalue": "module 'cv2' has no attribute 'getBuildInformation'",
     "output_type": "error",
     "traceback": [
      "\u001b[0;31m---------------------------------------------------------------------------\u001b[0m",
      "\u001b[0;31mAttributeError\u001b[0m                            Traceback (most recent call last)",
      "Cell \u001b[0;32mIn[3], line 10\u001b[0m\n\u001b[1;32m      7\u001b[0m     sys\u001b[38;5;241m.\u001b[39mpath\u001b[38;5;241m.\u001b[39mappend(opencv_path)\n\u001b[1;32m      9\u001b[0m \u001b[38;5;28;01mimport\u001b[39;00m \u001b[38;5;21;01mcv2\u001b[39;00m\n\u001b[0;32m---> 10\u001b[0m \u001b[38;5;28mprint\u001b[39m(\u001b[43mcv2\u001b[49m\u001b[38;5;241;43m.\u001b[39;49m\u001b[43mgetBuildInformation\u001b[49m())\n",
      "\u001b[0;31mAttributeError\u001b[0m: module 'cv2' has no attribute 'getBuildInformation'"
     ]
    }
   ],
   "source": [
    "import sys\n",
    "import os\n",
    "\n",
    "# 添加 OpenCV 安装路径到 PYTHONPATH\n",
    "opencv_path = '/usr/local/lib/python3.8/site-packages'\n",
    "if opencv_path not in sys.path:\n",
    "    sys.path.append(opencv_path)\n",
    "\n",
    "import cv2\n",
    "print(cv2.getBuildInformation())"
   ]
  },
  {
   "cell_type": "code",
   "execution_count": null,
   "metadata": {},
   "outputs": [],
   "source": [
    "# 查看pt文件的参数\n",
    "from ultralytics.nn.tasks import attempt_load_one_weight, torch_safe_load\n",
    "\n",
    "model, ckpt = attempt_load_one_weight('/workspace/飞行检测/models/Dr_zhang_v2.pt')\n",
    "# ckpt, weights = torch_safe_load('/workspace/飞行检测/models/Dr_zhang_v2.pt')\n",
    "\n",
    "# model, ckpt = attempt_load_one_weight('/workspace/RDD_yolo/v8m/0726/weights/best.pt')\n",
    "model.__dict__"
   ]
  },
  {
   "cell_type": "code",
   "execution_count": 1,
   "metadata": {},
   "outputs": [
    {
     "name": "stdout",
     "output_type": "stream",
     "text": [
      "Ultralytics YOLOv8.2.78 🚀 Python-3.8.10 torch-1.14.0a0+410ce96 CUDA:0 (NVIDIA GeForce RTX 3090, 24252MiB)\n",
      "WARNING ⚠️ Upgrade to torch>=2.0.0 for deterministic training.\n",
      "\u001b[34m\u001b[1mengine/trainer: \u001b[0mtask=detect, mode=train, model=None, data=/workspace/飞行检测/data_config/finetune.yaml, epochs=100, time=None, patience=100, batch=16, imgsz=640, save=True, save_period=-1, cache=False, device=None, workers=8, project=dataset, name=train, exist_ok=False, pretrained=True, optimizer=auto, verbose=True, seed=0, deterministic=True, single_cls=False, rect=False, cos_lr=False, close_mosaic=10, resume=False, amp=True, fraction=1.0, profile=False, freeze=None, multi_scale=False, overlap_mask=True, mask_ratio=4, dropout=0.0, val=True, split=val, save_json=False, save_hybrid=False, conf=None, iou=0.7, max_det=300, half=False, dnn=False, plots=True, source=None, vid_stride=1, stream_buffer=False, visualize=False, augment=False, agnostic_nms=False, classes=None, retina_masks=False, embed=None, show=False, save_frames=False, save_txt=False, save_conf=False, save_crop=False, show_labels=True, show_conf=True, show_boxes=True, line_width=None, format=torchscript, keras=False, optimize=False, int8=False, dynamic=False, simplify=False, opset=None, workspace=4, nms=False, lr0=0.01, lrf=0.01, momentum=0.937, weight_decay=0.0005, warmup_epochs=3.0, warmup_momentum=0.8, warmup_bias_lr=0.1, box=7.5, cls=0.5, dfl=1.5, pose=12.0, kobj=1.0, label_smoothing=0.0, nbs=64, hsv_h=0.015, hsv_s=0.7, hsv_v=0.4, degrees=0.0, translate=0.1, scale=0.5, shear=0.0, perspective=0.0, flipud=0.0, fliplr=0.5, bgr=0.0, mosaic=1.0, mixup=0.0, copy_paste=0.0, auto_augment=randaugment, erasing=0.4, crop_fraction=1.0, cfg=None, tracker=botsort.yaml, save_dir=dataset/train\n"
     ]
    },
    {
     "name": "stderr",
     "output_type": "stream",
     "text": [
      "\u001b[34m\u001b[1mtrain: \u001b[0mScanning /workspace/飞行检测/data(0.01%)/train/labels... 23654 images, 0 backgrounds, 0 corrupt: 100%|██████████| 23654/23654 [00:28<00:00, 826.48it/s]"
     ]
    },
    {
     "name": "stdout",
     "output_type": "stream",
     "text": [
      "\u001b[34m\u001b[1mtrain: \u001b[0mWARNING ⚠️ /workspace/飞行检测/data(0.5%)/train/images/0_jpg.rf.7786df3b836d385682371595441d680f.jpg: 1 duplicate labels removed\n",
      "\u001b[34m\u001b[1mtrain: \u001b[0mWARNING ⚠️ /workspace/飞行检测/data(0.5%)/train/images/101_jpg.rf.33637da9c2807ec03e0cefb7e1d92fd3.jpg: 1 duplicate labels removed\n",
      "\u001b[34m\u001b[1mtrain: \u001b[0mWARNING ⚠️ /workspace/飞行检测/data(0.5%)/train/images/104_jpg.rf.025f0300157022ab1cefd1503c31a6bc.jpg: 1 duplicate labels removed\n",
      "\u001b[34m\u001b[1mtrain: \u001b[0mWARNING ⚠️ /workspace/飞行检测/data(0.5%)/train/images/108_jpg.rf.837ad6e1c43fdaae29b19f2225dc72de.jpg: 1 duplicate labels removed\n",
      "\u001b[34m\u001b[1mtrain: \u001b[0mWARNING ⚠️ /workspace/飞行检测/data(0.5%)/train/images/113_jpg.rf.7eaf921667608fed7f0558a0e39d487b.jpg: 1 duplicate labels removed\n",
      "\u001b[34m\u001b[1mtrain: \u001b[0mWARNING ⚠️ /workspace/飞行检测/data(0.5%)/train/images/113_jpg.rf.9f989bafeefd97c66387a20d7cddd2ae.jpg: 1 duplicate labels removed\n",
      "\u001b[34m\u001b[1mtrain: \u001b[0mWARNING ⚠️ /workspace/飞行检测/data(0.5%)/train/images/115_jpg.rf.e450e87bfb48b3566d986e9f00c8eab7.jpg: 1 duplicate labels removed\n",
      "\u001b[34m\u001b[1mtrain: \u001b[0mWARNING ⚠️ /workspace/飞行检测/data(0.5%)/train/images/117_jpg.rf.cf2b6da81fe0db6324bc64ec1c525b35.jpg: 1 duplicate labels removed\n",
      "\u001b[34m\u001b[1mtrain: \u001b[0mWARNING ⚠️ /workspace/飞行检测/data(0.5%)/train/images/117_jpg.rf.cfa7d12ad66111806dea53e8b7541702.jpg: 1 duplicate labels removed\n",
      "\u001b[34m\u001b[1mtrain: \u001b[0mWARNING ⚠️ /workspace/飞行检测/data(0.5%)/train/images/120_jpg.rf.bea37237e2113a4d43ee99bda6ccf2f3.jpg: 1 duplicate labels removed\n",
      "\u001b[34m\u001b[1mtrain: \u001b[0mWARNING ⚠️ /workspace/飞行检测/data(0.5%)/train/images/126_jpg.rf.160752316da99b5f8c7b51d431015d8c.jpg: 1 duplicate labels removed\n",
      "\u001b[34m\u001b[1mtrain: \u001b[0mWARNING ⚠️ /workspace/飞行检测/data(0.5%)/train/images/126_jpg.rf.750154f7f114ca0b3efa690d2264026b.jpg: 1 duplicate labels removed\n",
      "\u001b[34m\u001b[1mtrain: \u001b[0mWARNING ⚠️ /workspace/飞行检测/data(0.5%)/train/images/129_jpg.rf.c9a208a42e89c277286cb23fb408f3bf.jpg: 1 duplicate labels removed\n",
      "\u001b[34m\u001b[1mtrain: \u001b[0mWARNING ⚠️ /workspace/飞行检测/data(0.5%)/train/images/133_jpg.rf.6ff1f10c366ca4e670376bd112663f21.jpg: 1 duplicate labels removed\n",
      "\u001b[34m\u001b[1mtrain: \u001b[0mWARNING ⚠️ /workspace/飞行检测/data(0.5%)/train/images/135_jpg.rf.314c968d567f5c08d5a906ffe2a85378.jpg: 1 duplicate labels removed\n",
      "\u001b[34m\u001b[1mtrain: \u001b[0mWARNING ⚠️ /workspace/飞行检测/data(0.5%)/train/images/138_jpg.rf.c10dcb44bbb2283e61c2fcf9629a3ccd.jpg: 1 duplicate labels removed\n",
      "\u001b[34m\u001b[1mtrain: \u001b[0mWARNING ⚠️ /workspace/飞行检测/data(0.5%)/train/images/13_jpg.rf.8bc0921019760335f2f6fbb4770e5595.jpg: 1 duplicate labels removed\n",
      "\u001b[34m\u001b[1mtrain: \u001b[0mWARNING ⚠️ /workspace/飞行检测/data(0.5%)/train/images/144_jpg.rf.07cba021d182238e821fab936207bb02.jpg: 1 duplicate labels removed\n",
      "\u001b[34m\u001b[1mtrain: \u001b[0mWARNING ⚠️ /workspace/飞行检测/data(0.5%)/train/images/144_jpg.rf.93c776615c80ebf27c70363d8d848c35.jpg: 1 duplicate labels removed\n",
      "\u001b[34m\u001b[1mtrain: \u001b[0mWARNING ⚠️ /workspace/飞行检测/data(0.5%)/train/images/145_jpg.rf.262f0ee690e6d6250ad77997b37e5008.jpg: 1 duplicate labels removed\n",
      "\u001b[34m\u001b[1mtrain: \u001b[0mWARNING ⚠️ /workspace/飞行检测/data(0.5%)/train/images/152_jpg.rf.689a96b11dd0db757a375f6e9a607304.jpg: 1 duplicate labels removed\n",
      "\u001b[34m\u001b[1mtrain: \u001b[0mWARNING ⚠️ /workspace/飞行检测/data(0.5%)/train/images/152_jpg.rf.a6ba2359069cfbb63159f213b7a88fec.jpg: 1 duplicate labels removed\n",
      "\u001b[34m\u001b[1mtrain: \u001b[0mWARNING ⚠️ /workspace/飞行检测/data(0.5%)/train/images/154_jpg.rf.4038c339adb2aca92883a6e8cd0f6bee.jpg: 1 duplicate labels removed\n",
      "\u001b[34m\u001b[1mtrain: \u001b[0mWARNING ⚠️ /workspace/飞行检测/data(0.5%)/train/images/156_jpg.rf.06abb3292dfc66fcaa42a12e8d02667f.jpg: 1 duplicate labels removed\n",
      "\u001b[34m\u001b[1mtrain: \u001b[0mWARNING ⚠️ /workspace/飞行检测/data(0.5%)/train/images/164_jpg.rf.aa390ff8cef55f5a09542de802bfbb46.jpg: 1 duplicate labels removed\n",
      "\u001b[34m\u001b[1mtrain: \u001b[0mWARNING ⚠️ /workspace/飞行检测/data(0.5%)/train/images/168_jpg.rf.e7ba6f7cfee2dd17c0213ca92a381ae9.jpg: 1 duplicate labels removed\n",
      "\u001b[34m\u001b[1mtrain: \u001b[0mWARNING ⚠️ /workspace/飞行检测/data(0.5%)/train/images/16_jpg.rf.33466aa60dad39153a4d70eb5a613c53.jpg: 1 duplicate labels removed\n",
      "\u001b[34m\u001b[1mtrain: \u001b[0mWARNING ⚠️ /workspace/飞行检测/data(0.5%)/train/images/171_jpg.rf.f6df7478ec6b6d442e4da7d4bfde9674.jpg: 1 duplicate labels removed\n",
      "\u001b[34m\u001b[1mtrain: \u001b[0mWARNING ⚠️ /workspace/飞行检测/data(0.5%)/train/images/173_jpg.rf.4eb3d370b963a76107c5146297dbe80a.jpg: 1 duplicate labels removed\n",
      "\u001b[34m\u001b[1mtrain: \u001b[0mWARNING ⚠️ /workspace/飞行检测/data(0.5%)/train/images/177_jpg.rf.7c4bacc766cecf07461e521008fc0ae3.jpg: 1 duplicate labels removed\n",
      "\u001b[34m\u001b[1mtrain: \u001b[0mWARNING ⚠️ /workspace/飞行检测/data(0.5%)/train/images/177_jpg.rf.e37578d05ab926685b71512c7130663a.jpg: 1 duplicate labels removed\n",
      "\u001b[34m\u001b[1mtrain: \u001b[0mWARNING ⚠️ /workspace/飞行检测/data(0.5%)/train/images/179_jpg.rf.1c6fa356c28d9a934cc2b6e2076e139b.jpg: 1 duplicate labels removed\n",
      "\u001b[34m\u001b[1mtrain: \u001b[0mWARNING ⚠️ /workspace/飞行检测/data(0.5%)/train/images/179_jpg.rf.7df5149dd13231261b98580bd3b48bb3.jpg: 1 duplicate labels removed\n",
      "\u001b[34m\u001b[1mtrain: \u001b[0mWARNING ⚠️ /workspace/飞行检测/data(0.5%)/train/images/186_jpg.rf.73239eb9a28573c74d2003da423391ad.jpg: 1 duplicate labels removed\n",
      "\u001b[34m\u001b[1mtrain: \u001b[0mWARNING ⚠️ /workspace/飞行检测/data(0.5%)/train/images/192_jpg.rf.b6468576c6e2b7213f570819c414df5e.jpg: 1 duplicate labels removed\n",
      "\u001b[34m\u001b[1mtrain: \u001b[0mWARNING ⚠️ /workspace/飞行检测/data(0.5%)/train/images/193_jpg.rf.74dd8f291bbd280bb4c63264f9ec7d93.jpg: 1 duplicate labels removed\n",
      "\u001b[34m\u001b[1mtrain: \u001b[0mWARNING ⚠️ /workspace/飞行检测/data(0.5%)/train/images/194_jpg.rf.403461f99273819269b3bdc12227daa8.jpg: 1 duplicate labels removed\n",
      "\u001b[34m\u001b[1mtrain: \u001b[0mWARNING ⚠️ /workspace/飞行检测/data(0.5%)/train/images/196_jpg.rf.f9b8b4f641b79420cf9e13e0bb1e650e.jpg: 1 duplicate labels removed\n",
      "\u001b[34m\u001b[1mtrain: \u001b[0mWARNING ⚠️ /workspace/飞行检测/data(0.5%)/train/images/197_jpg.rf.164ae24a8508ad65d6702c8061a9b0e8.jpg: 1 duplicate labels removed\n",
      "\u001b[34m\u001b[1mtrain: \u001b[0mWARNING ⚠️ /workspace/飞行检测/data(0.5%)/train/images/199_jpg.rf.dd64991201f01b7f7abf6ad6654d8759.jpg: 1 duplicate labels removed\n",
      "\u001b[34m\u001b[1mtrain: \u001b[0mWARNING ⚠️ /workspace/飞行检测/data(0.5%)/train/images/1_jpg.rf.8136c3dd488d5a5fe76ce8c40e1c8213.jpg: 1 duplicate labels removed\n",
      "\u001b[34m\u001b[1mtrain: \u001b[0mWARNING ⚠️ /workspace/飞行检测/data(0.5%)/train/images/201_jpg.rf.847c635c3c9e17aa11eab55820d5b0f7.jpg: 1 duplicate labels removed\n",
      "\u001b[34m\u001b[1mtrain: \u001b[0mWARNING ⚠️ /workspace/飞行检测/data(0.5%)/train/images/203_jpg.rf.6d0f30765d6709dbebe4162135a7a168.jpg: 1 duplicate labels removed\n",
      "\u001b[34m\u001b[1mtrain: \u001b[0mWARNING ⚠️ /workspace/飞行检测/data(0.5%)/train/images/204_jpg.rf.1e8648a4c864886f1bdceaafa2ed7226.jpg: 1 duplicate labels removed\n",
      "\u001b[34m\u001b[1mtrain: \u001b[0mWARNING ⚠️ /workspace/飞行检测/data(0.5%)/train/images/204_jpg.rf.9197b283f00a111bfb8116503cd3871e.jpg: 1 duplicate labels removed\n",
      "\u001b[34m\u001b[1mtrain: \u001b[0mWARNING ⚠️ /workspace/飞行检测/data(0.5%)/train/images/205_jpg.rf.3101567c296eaa6b1a6d495c60941c60.jpg: 1 duplicate labels removed\n",
      "\u001b[34m\u001b[1mtrain: \u001b[0mWARNING ⚠️ /workspace/飞行检测/data(0.5%)/train/images/207_jpg.rf.8674c5a06b996389ccf8ed075fd674ad.jpg: 1 duplicate labels removed\n",
      "\u001b[34m\u001b[1mtrain: \u001b[0mWARNING ⚠️ /workspace/飞行检测/data(0.5%)/train/images/207_jpg.rf.87915c675c7a51fedbe7ac190d29c165.jpg: 1 duplicate labels removed\n",
      "\u001b[34m\u001b[1mtrain: \u001b[0mWARNING ⚠️ /workspace/飞行检测/data(0.5%)/train/images/23_jpg.rf.ba37d4fe1236c0bad528e3ffef5c6f3a.jpg: 1 duplicate labels removed\n",
      "\u001b[34m\u001b[1mtrain: \u001b[0mWARNING ⚠️ /workspace/飞行检测/data(0.5%)/train/images/24_jpg.rf.57dc8a851435abc195521270be0f1de6.jpg: 1 duplicate labels removed\n",
      "\u001b[34m\u001b[1mtrain: \u001b[0mWARNING ⚠️ /workspace/飞行检测/data(0.5%)/train/images/25_jpg.rf.648f735988be488df8dc1384082fdd30.jpg: 1 duplicate labels removed\n",
      "\u001b[34m\u001b[1mtrain: \u001b[0mWARNING ⚠️ /workspace/飞行检测/data(0.5%)/train/images/27_jpg.rf.084e6f719ba7d57d739b387fadaf4a7f.jpg: 1 duplicate labels removed\n",
      "\u001b[34m\u001b[1mtrain: \u001b[0mWARNING ⚠️ /workspace/飞行检测/data(0.5%)/train/images/30_jpg.rf.99b212e50261f3bedc415924efcf7fe6.jpg: 1 duplicate labels removed\n",
      "\u001b[34m\u001b[1mtrain: \u001b[0mWARNING ⚠️ /workspace/飞行检测/data(0.5%)/train/images/31_jpg.rf.1a21f8dc4443d3a611bbe0ad87705ca2.jpg: 1 duplicate labels removed\n",
      "\u001b[34m\u001b[1mtrain: \u001b[0mWARNING ⚠️ /workspace/飞行检测/data(0.5%)/train/images/32_jpg.rf.185979e83f05dde507d7913c840166a7.jpg: 1 duplicate labels removed\n",
      "\u001b[34m\u001b[1mtrain: \u001b[0mWARNING ⚠️ /workspace/飞行检测/data(0.5%)/train/images/32_jpg.rf.36d7916f8b7f35e79e18d3aa70f6363e.jpg: 1 duplicate labels removed\n",
      "\u001b[34m\u001b[1mtrain: \u001b[0mWARNING ⚠️ /workspace/飞行检测/data(0.5%)/train/images/35_jpg.rf.d7f0fb2e3a33b3f0b570dab46a32417b.jpg: 1 duplicate labels removed\n",
      "\u001b[34m\u001b[1mtrain: \u001b[0mWARNING ⚠️ /workspace/飞行检测/data(0.5%)/train/images/38_jpg.rf.6b559adf137c0bff68af818c16484b1c.jpg: 1 duplicate labels removed\n",
      "\u001b[34m\u001b[1mtrain: \u001b[0mWARNING ⚠️ /workspace/飞行检测/data(0.5%)/train/images/39_jpg.rf.0dc2e55e91e4b917960672be4da368ec.jpg: 1 duplicate labels removed\n",
      "\u001b[34m\u001b[1mtrain: \u001b[0mWARNING ⚠️ /workspace/飞行检测/data(0.5%)/train/images/40_jpg.rf.7a406c76b86094a9f997bd0c78673833.jpg: 1 duplicate labels removed\n",
      "\u001b[34m\u001b[1mtrain: \u001b[0mWARNING ⚠️ /workspace/飞行检测/data(0.5%)/train/images/41_jpg.rf.4862b9eab3d821bc3a5ee182169c35e8.jpg: 1 duplicate labels removed\n",
      "\u001b[34m\u001b[1mtrain: \u001b[0mWARNING ⚠️ /workspace/飞行检测/data(0.5%)/train/images/41_jpg.rf.5bac86f41d0d1d878c7076754afc7b06.jpg: 1 duplicate labels removed\n",
      "\u001b[34m\u001b[1mtrain: \u001b[0mWARNING ⚠️ /workspace/飞行检测/data(0.5%)/train/images/44_jpg.rf.7404c5903414c680db368e94ff67ca11.jpg: 1 duplicate labels removed\n",
      "\u001b[34m\u001b[1mtrain: \u001b[0mWARNING ⚠️ /workspace/飞行检测/data(0.5%)/train/images/44_jpg.rf.baeb2b5d326b45d0db1cead17a510910.jpg: 1 duplicate labels removed\n",
      "\u001b[34m\u001b[1mtrain: \u001b[0mWARNING ⚠️ /workspace/飞行检测/data(0.5%)/train/images/45_jpg.rf.e741b3b56dfc8020abb97d422b3e8bd0.jpg: 1 duplicate labels removed\n",
      "\u001b[34m\u001b[1mtrain: \u001b[0mWARNING ⚠️ /workspace/飞行检测/data(0.5%)/train/images/46_jpg.rf.b35ea8877057b4fd74adc29f37585fa5.jpg: 1 duplicate labels removed\n",
      "\u001b[34m\u001b[1mtrain: \u001b[0mWARNING ⚠️ /workspace/飞行检测/data(0.5%)/train/images/48_jpg.rf.b44b729d744bcd0ef06542d788f656fd.jpg: 1 duplicate labels removed\n",
      "\u001b[34m\u001b[1mtrain: \u001b[0mWARNING ⚠️ /workspace/飞行检测/data(0.5%)/train/images/49_jpg.rf.65da472bcd2c7ef0da867f8217ff7969.jpg: 1 duplicate labels removed\n",
      "\u001b[34m\u001b[1mtrain: \u001b[0mWARNING ⚠️ /workspace/飞行检测/data(0.5%)/train/images/50_jpg.rf.4c658af7f3418bf3414b6f25bf0b73e1.jpg: 1 duplicate labels removed\n",
      "\u001b[34m\u001b[1mtrain: \u001b[0mWARNING ⚠️ /workspace/飞行检测/data(0.5%)/train/images/52_jpg.rf.955da4c099ca94062af42ffe76f9baed.jpg: 1 duplicate labels removed\n",
      "\u001b[34m\u001b[1mtrain: \u001b[0mWARNING ⚠️ /workspace/飞行检测/data(0.5%)/train/images/52_jpg.rf.c52b90adf475496037a2a0dde281fa20.jpg: 1 duplicate labels removed\n",
      "\u001b[34m\u001b[1mtrain: \u001b[0mWARNING ⚠️ /workspace/飞行检测/data(0.5%)/train/images/53_jpg.rf.6c8338bb8f0911a3af9633a4cef42b41.jpg: 1 duplicate labels removed\n",
      "\u001b[34m\u001b[1mtrain: \u001b[0mWARNING ⚠️ /workspace/飞行检测/data(0.5%)/train/images/56_jpg.rf.84c7cbafb98af5fb6ec8cb0be1211173.jpg: 1 duplicate labels removed\n",
      "\u001b[34m\u001b[1mtrain: \u001b[0mWARNING ⚠️ /workspace/飞行检测/data(0.5%)/train/images/61_jpg.rf.c251d7d6837a7fbedf990857e1f2b00b.jpg: 1 duplicate labels removed\n",
      "\u001b[34m\u001b[1mtrain: \u001b[0mWARNING ⚠️ /workspace/飞行检测/data(0.5%)/train/images/62_jpg.rf.1448c2529ee8724c1fa1b814e5176748.jpg: 1 duplicate labels removed\n",
      "\u001b[34m\u001b[1mtrain: \u001b[0mWARNING ⚠️ /workspace/飞行检测/data(0.5%)/train/images/63_jpg.rf.968739816a8eaaece4d44a7850377f80.jpg: 1 duplicate labels removed\n",
      "\u001b[34m\u001b[1mtrain: \u001b[0mWARNING ⚠️ /workspace/飞行检测/data(0.5%)/train/images/67_jpg.rf.7ab0b3ce635207e91d874f2a783ea044.jpg: 1 duplicate labels removed\n",
      "\u001b[34m\u001b[1mtrain: \u001b[0mWARNING ⚠️ /workspace/飞行检测/data(0.5%)/train/images/69_jpg.rf.db56ac60c41fcef47249dacc6804882d.jpg: 1 duplicate labels removed\n",
      "\u001b[34m\u001b[1mtrain: \u001b[0mWARNING ⚠️ /workspace/飞行检测/data(0.5%)/train/images/6_jpg.rf.794a8cb6e75e55f7a239ef0eb258e552.jpg: 1 duplicate labels removed\n",
      "\u001b[34m\u001b[1mtrain: \u001b[0mWARNING ⚠️ /workspace/飞行检测/data(0.5%)/train/images/748_jpg.rf.6c6dba1f160e14d041682f0e714d1802.jpg: 1 duplicate labels removed\n",
      "\u001b[34m\u001b[1mtrain: \u001b[0mWARNING ⚠️ /workspace/飞行检测/data(0.5%)/train/images/749_jpg.rf.467bfd6e1e8b3b7ebccdb33a36665062.jpg: 1 duplicate labels removed\n",
      "\u001b[34m\u001b[1mtrain: \u001b[0mWARNING ⚠️ /workspace/飞行检测/data(0.5%)/train/images/752_jpg.rf.9519597cf4058e078439f81368d768ff.jpg: 1 duplicate labels removed\n",
      "\u001b[34m\u001b[1mtrain: \u001b[0mWARNING ⚠️ /workspace/飞行检测/data(0.5%)/train/images/754_jpg.rf.2f2facd9dec4e7e730a749e6906b3a0c.jpg: 1 duplicate labels removed\n",
      "\u001b[34m\u001b[1mtrain: \u001b[0mWARNING ⚠️ /workspace/飞行检测/data(0.5%)/train/images/757_jpg.rf.bd7379780f8ade5e0d72f602b3f3f5f3.jpg: 1 duplicate labels removed\n",
      "\u001b[34m\u001b[1mtrain: \u001b[0mWARNING ⚠️ /workspace/飞行检测/data(0.5%)/train/images/761_jpg.rf.0d58a07fe42b80e3686d8a7a815dc222.jpg: 1 duplicate labels removed\n",
      "\u001b[34m\u001b[1mtrain: \u001b[0mWARNING ⚠️ /workspace/飞行检测/data(0.5%)/train/images/765_jpg.rf.cca68e3f7dc6330e6dfa31e1c2af6de2.jpg: 1 duplicate labels removed\n",
      "\u001b[34m\u001b[1mtrain: \u001b[0mWARNING ⚠️ /workspace/飞行检测/data(0.5%)/train/images/767_jpg.rf.705a9570a0bb8bd03fa2e7a615b71d0b.jpg: 1 duplicate labels removed\n",
      "\u001b[34m\u001b[1mtrain: \u001b[0mWARNING ⚠️ /workspace/飞行检测/data(0.5%)/train/images/767_jpg.rf.ca440e7cde5610e6b91dbb8579cce11b.jpg: 1 duplicate labels removed\n",
      "\u001b[34m\u001b[1mtrain: \u001b[0mWARNING ⚠️ /workspace/飞行检测/data(0.5%)/train/images/769_jpg.rf.7f4abf38b543b1142c92df888053c35c.jpg: 1 duplicate labels removed\n",
      "\u001b[34m\u001b[1mtrain: \u001b[0mWARNING ⚠️ /workspace/飞行检测/data(0.5%)/train/images/771_jpg.rf.da5531680545e57f6f645ad4f9004bd3.jpg: 1 duplicate labels removed\n",
      "\u001b[34m\u001b[1mtrain: \u001b[0mWARNING ⚠️ /workspace/飞行检测/data(0.5%)/train/images/771_jpg.rf.edf158cc9b4b7d937169006c22b3dcb9.jpg: 1 duplicate labels removed\n",
      "\u001b[34m\u001b[1mtrain: \u001b[0mWARNING ⚠️ /workspace/飞行检测/data(0.5%)/train/images/775_jpg.rf.24891dd40e24be924cbb5b6603a3a586.jpg: 1 duplicate labels removed\n",
      "\u001b[34m\u001b[1mtrain: \u001b[0mWARNING ⚠️ /workspace/飞行检测/data(0.5%)/train/images/776_jpg.rf.5940934b188cdb17b0250f06de17f745.jpg: 1 duplicate labels removed\n",
      "\u001b[34m\u001b[1mtrain: \u001b[0mWARNING ⚠️ /workspace/飞行检测/data(0.5%)/train/images/77_jpg.rf.0e4274cc74fec9bceb8a5651676b79c4.jpg: 1 duplicate labels removed\n",
      "\u001b[34m\u001b[1mtrain: \u001b[0mWARNING ⚠️ /workspace/飞行检测/data(0.5%)/train/images/784_jpg.rf.f029099b7f5d9a744b76ec7bf4f7ba67.jpg: 1 duplicate labels removed\n",
      "\u001b[34m\u001b[1mtrain: \u001b[0mWARNING ⚠️ /workspace/飞行检测/data(0.5%)/train/images/788_jpg.rf.3f2aeb7689e596ca58af02aaf10c6c10.jpg: 1 duplicate labels removed\n",
      "\u001b[34m\u001b[1mtrain: \u001b[0mWARNING ⚠️ /workspace/飞行检测/data(0.5%)/train/images/789_jpg.rf.37ef85fae57b6fc49c0b8d80ecd4029d.jpg: 1 duplicate labels removed\n",
      "\u001b[34m\u001b[1mtrain: \u001b[0mWARNING ⚠️ /workspace/飞行检测/data(0.5%)/train/images/790_jpg.rf.ff6c57db8902e2def720575d089b0923.jpg: 1 duplicate labels removed\n",
      "\u001b[34m\u001b[1mtrain: \u001b[0mWARNING ⚠️ /workspace/飞行检测/data(0.5%)/train/images/793_jpg.rf.4849153814353bb4017aa29a707abca0.jpg: 1 duplicate labels removed\n",
      "\u001b[34m\u001b[1mtrain: \u001b[0mWARNING ⚠️ /workspace/飞行检测/data(0.5%)/train/images/794_jpg.rf.8a6d78cd1c176ff962e69da2ecfc602f.jpg: 1 duplicate labels removed\n",
      "\u001b[34m\u001b[1mtrain: \u001b[0mWARNING ⚠️ /workspace/飞行检测/data(0.5%)/train/images/794_jpg.rf.d75a0202cd8204903e6415971b54720d.jpg: 1 duplicate labels removed\n",
      "\u001b[34m\u001b[1mtrain: \u001b[0mWARNING ⚠️ /workspace/飞行检测/data(0.5%)/train/images/795_jpg.rf.78e69d14516388c2328e67034283f8d5.jpg: 1 duplicate labels removed\n",
      "\u001b[34m\u001b[1mtrain: \u001b[0mWARNING ⚠️ /workspace/飞行检测/data(0.5%)/train/images/796_jpg.rf.3686cbdf6e0c4851d9fc20fe6b3eb770.jpg: 1 duplicate labels removed\n",
      "\u001b[34m\u001b[1mtrain: \u001b[0mWARNING ⚠️ /workspace/飞行检测/data(0.5%)/train/images/799_jpg.rf.89d7617717aafdbbf04a4b4c44581936.jpg: 1 duplicate labels removed\n",
      "\u001b[34m\u001b[1mtrain: \u001b[0mWARNING ⚠️ /workspace/飞行检测/data(0.5%)/train/images/799_jpg.rf.ce6356b844761d43d3baa5e7d8c0491a.jpg: 1 duplicate labels removed\n",
      "\u001b[34m\u001b[1mtrain: \u001b[0mWARNING ⚠️ /workspace/飞行检测/data(0.5%)/train/images/800_jpg.rf.03929bc4f53457481844bc9cb283e85b.jpg: 1 duplicate labels removed\n",
      "\u001b[34m\u001b[1mtrain: \u001b[0mWARNING ⚠️ /workspace/飞行检测/data(0.5%)/train/images/800_jpg.rf.85ad32c994f1cf38fa229e31b09ed978.jpg: 1 duplicate labels removed\n",
      "\u001b[34m\u001b[1mtrain: \u001b[0mWARNING ⚠️ /workspace/飞行检测/data(0.5%)/train/images/802_jpg.rf.c91b4240f433e5e1e9c346a4d0afbd8b.jpg: 1 duplicate labels removed\n",
      "\u001b[34m\u001b[1mtrain: \u001b[0mWARNING ⚠️ /workspace/飞行检测/data(0.5%)/train/images/804_jpg.rf.eae6b894f841d0a6284e917b380b127a.jpg: 1 duplicate labels removed\n",
      "\u001b[34m\u001b[1mtrain: \u001b[0mWARNING ⚠️ /workspace/飞行检测/data(0.5%)/train/images/806_jpg.rf.1b24dc2f8e664a9028d0026616a47882.jpg: 1 duplicate labels removed\n",
      "\u001b[34m\u001b[1mtrain: \u001b[0mWARNING ⚠️ /workspace/飞行检测/data(0.5%)/train/images/80_jpg.rf.b8b9cce0ebc5ea82b4f76b90359ba71f.jpg: 1 duplicate labels removed\n",
      "\u001b[34m\u001b[1mtrain: \u001b[0mWARNING ⚠️ /workspace/飞行检测/data(0.5%)/train/images/810_jpg.rf.ea81407c2273a4f62d420edfaf86dd46.jpg: 1 duplicate labels removed\n",
      "\u001b[34m\u001b[1mtrain: \u001b[0mWARNING ⚠️ /workspace/飞行检测/data(0.5%)/train/images/815_jpg.rf.3821cd0bd4db4d2e0cbf6b0d4a18b480.jpg: 1 duplicate labels removed\n",
      "\u001b[34m\u001b[1mtrain: \u001b[0mWARNING ⚠️ /workspace/飞行检测/data(0.5%)/train/images/81_jpg.rf.1184a0084c35cafc600f610afdece5b6.jpg: 1 duplicate labels removed\n",
      "\u001b[34m\u001b[1mtrain: \u001b[0mWARNING ⚠️ /workspace/飞行检测/data(0.5%)/train/images/81_jpg.rf.7c2f2f6cd20516be5af46012c604e555.jpg: 1 duplicate labels removed\n",
      "\u001b[34m\u001b[1mtrain: \u001b[0mWARNING ⚠️ /workspace/飞行检测/data(0.5%)/train/images/823_jpg.rf.aeadaae1a87ba40274472e4e239a43a3.jpg: 1 duplicate labels removed\n",
      "\u001b[34m\u001b[1mtrain: \u001b[0mWARNING ⚠️ /workspace/飞行检测/data(0.5%)/train/images/825_jpg.rf.d059771171f4faacc4c3e285deff2a7f.jpg: 1 duplicate labels removed\n",
      "\u001b[34m\u001b[1mtrain: \u001b[0mWARNING ⚠️ /workspace/飞行检测/data(0.5%)/train/images/828_jpg.rf.47ca509c356172dfe861aa4bba1d2bde.jpg: 1 duplicate labels removed\n",
      "\u001b[34m\u001b[1mtrain: \u001b[0mWARNING ⚠️ /workspace/飞行检测/data(0.5%)/train/images/829_jpg.rf.39432b6cb29880a312c1d7dc602d6acc.jpg: 1 duplicate labels removed\n",
      "\u001b[34m\u001b[1mtrain: \u001b[0mWARNING ⚠️ /workspace/飞行检测/data(0.5%)/train/images/832_jpg.rf.b979c0156a7d113d3f02fd3702fd3a68.jpg: 1 duplicate labels removed\n",
      "\u001b[34m\u001b[1mtrain: \u001b[0mWARNING ⚠️ /workspace/飞行检测/data(0.5%)/train/images/83_jpg.rf.4f24099e4f1a3588354978a4537a10e8.jpg: 1 duplicate labels removed\n",
      "\u001b[34m\u001b[1mtrain: \u001b[0mWARNING ⚠️ /workspace/飞行检测/data(0.5%)/train/images/842_jpg.rf.f6dcdd758f953335b860321cebfb5a75.jpg: 1 duplicate labels removed\n",
      "\u001b[34m\u001b[1mtrain: \u001b[0mWARNING ⚠️ /workspace/飞行检测/data(0.5%)/train/images/85_jpg.rf.e01777be941ea1d09c89dcf9a27b816c.jpg: 1 duplicate labels removed\n",
      "\u001b[34m\u001b[1mtrain: \u001b[0mWARNING ⚠️ /workspace/飞行检测/data(0.5%)/train/images/96_jpg.rf.3c65f7b2bf294176c2a9dcf18c5384f6.jpg: 1 duplicate labels removed\n",
      "\u001b[34m\u001b[1mtrain: \u001b[0mWARNING ⚠️ /workspace/飞行检测/data(0.5%)/train/images/96_jpg.rf.582dd08dc6fbbc47eb3822cdb213b203.jpg: 1 duplicate labels removed\n",
      "\u001b[34m\u001b[1mtrain: \u001b[0mWARNING ⚠️ /workspace/飞行检测/data(0.5%)/train/images/98_jpg.rf.24d161c86584895eeb298a9a4751f8e5.jpg: 1 duplicate labels removed\n",
      "\u001b[34m\u001b[1mtrain: \u001b[0mWARNING ⚠️ /workspace/飞行检测/data(0.5%)/train/images/99_jpg.rf.785453d3c81627bc73b5831acecc0cfe.jpg: 1 duplicate labels removed\n"
     ]
    },
    {
     "name": "stderr",
     "output_type": "stream",
     "text": [
      "\n"
     ]
    },
    {
     "name": "stdout",
     "output_type": "stream",
     "text": [
      "\u001b[34m\u001b[1mtrain: \u001b[0mNew cache created: /workspace/飞行检测/data(0.01%)/train/labels.cache\n"
     ]
    },
    {
     "name": "stderr",
     "output_type": "stream",
     "text": [
      "ERROR:albumentations.check_version:Error fetching version info\n",
      "Traceback (most recent call last):\n",
      "  File \"/usr/lib/python3.8/urllib/request.py\", line 1354, in do_open\n",
      "    h.request(req.get_method(), req.selector, req.data, headers,\n",
      "  File \"/usr/lib/python3.8/http/client.py\", line 1256, in request\n",
      "    self._send_request(method, url, body, headers, encode_chunked)\n",
      "  File \"/usr/lib/python3.8/http/client.py\", line 1302, in _send_request\n",
      "    self.endheaders(body, encode_chunked=encode_chunked)\n",
      "  File \"/usr/lib/python3.8/http/client.py\", line 1251, in endheaders\n",
      "    self._send_output(message_body, encode_chunked=encode_chunked)\n",
      "  File \"/usr/lib/python3.8/http/client.py\", line 1011, in _send_output\n",
      "    self.send(msg)\n",
      "  File \"/usr/lib/python3.8/http/client.py\", line 951, in send\n",
      "    self.connect()\n",
      "  File \"/usr/lib/python3.8/http/client.py\", line 1418, in connect\n",
      "    super().connect()\n",
      "  File \"/usr/lib/python3.8/http/client.py\", line 922, in connect\n",
      "    self.sock = self._create_connection(\n",
      "  File \"/usr/lib/python3.8/socket.py\", line 808, in create_connection\n",
      "    raise err\n",
      "  File \"/usr/lib/python3.8/socket.py\", line 796, in create_connection\n",
      "    sock.connect(sa)\n",
      "OSError: [Errno 101] Network is unreachable\n",
      "\n",
      "During handling of the above exception, another exception occurred:\n",
      "\n",
      "Traceback (most recent call last):\n",
      "  File \"/usr/local/lib/python3.8/dist-packages/albumentations/check_version.py\", line 29, in fetch_version_info\n",
      "    with opener.open(url, timeout=2) as response:\n",
      "  File \"/usr/lib/python3.8/urllib/request.py\", line 525, in open\n",
      "    response = self._open(req, data)\n",
      "  File \"/usr/lib/python3.8/urllib/request.py\", line 542, in _open\n",
      "    result = self._call_chain(self.handle_open, protocol, protocol +\n",
      "  File \"/usr/lib/python3.8/urllib/request.py\", line 502, in _call_chain\n",
      "    result = func(*args)\n",
      "  File \"/usr/lib/python3.8/urllib/request.py\", line 1397, in https_open\n",
      "    return self.do_open(http.client.HTTPSConnection, req,\n",
      "  File \"/usr/lib/python3.8/urllib/request.py\", line 1357, in do_open\n",
      "    raise URLError(err)\n",
      "urllib.error.URLError: <urlopen error [Errno 101] Network is unreachable>\n"
     ]
    },
    {
     "name": "stdout",
     "output_type": "stream",
     "text": [
      "\u001b[34m\u001b[1malbumentations: \u001b[0mBlur(p=0.01, blur_limit=(3, 7)), MedianBlur(p=0.01, blur_limit=(3, 7)), ToGray(p=0.01), CLAHE(p=0.01, clip_limit=(1, 4.0), tile_grid_size=(8, 8))\n",
      "Plotting labels to dataset/train/labels.jpg... \n"
     ]
    }
   ],
   "source": [
    "#   查看数据集的分类\n",
    "from ultralytics.models.yolo.detect.train import DetectionTrainer\n",
    "\n",
    "model = DetectionTrainer(overrides={'data':\"/workspace/飞行检测/data_config/finetune.yaml\", 'project':'dataset'})\n",
    "model.train_loader = model.get_dataloader(model.trainset, rank=-1)\n",
    "model.plot_training_labels()"
   ]
  },
  {
   "cell_type": "code",
   "execution_count": 1,
   "metadata": {},
   "outputs": [
    {
     "ename": "AttributeError",
     "evalue": "module 'cv2' has no attribute 'getBuildInformation'",
     "output_type": "error",
     "traceback": [
      "\u001b[0;31m---------------------------------------------------------------------------\u001b[0m",
      "\u001b[0;31mAttributeError\u001b[0m                            Traceback (most recent call last)",
      "Cell \u001b[0;32mIn[1], line 9\u001b[0m\n\u001b[1;32m      1\u001b[0m \u001b[38;5;66;03m# import cv2\u001b[39;00m\n\u001b[1;32m      2\u001b[0m \n\u001b[1;32m      3\u001b[0m \u001b[38;5;66;03m# path = '/workspace/飞行检测/20240814qzcn.mp4'\u001b[39;00m\n\u001b[1;32m      4\u001b[0m \u001b[38;5;66;03m# cap = cv2.VideoCapture(path)\u001b[39;00m\n\u001b[1;32m      5\u001b[0m \u001b[38;5;66;03m# fps = int(cap.get(cv2.CAP_PROP_FPS))\u001b[39;00m\n\u001b[1;32m      6\u001b[0m \u001b[38;5;66;03m# cap.isOpened()\u001b[39;00m\n\u001b[1;32m      8\u001b[0m \u001b[38;5;28;01mimport\u001b[39;00m \u001b[38;5;21;01mcv2\u001b[39;00m\n\u001b[0;32m----> 9\u001b[0m \u001b[38;5;28mprint\u001b[39m(\u001b[43mcv2\u001b[49m\u001b[38;5;241;43m.\u001b[39;49m\u001b[43mgetBuildInformation\u001b[49m())\n",
      "\u001b[0;31mAttributeError\u001b[0m: module 'cv2' has no attribute 'getBuildInformation'"
     ]
    }
   ],
   "source": [
    "# import cv2\n",
    "\n",
    "# path = '/workspace/飞行检测/20240814qzcn.mp4'\n",
    "# cap = cv2.VideoCapture(path)\n",
    "# fps = int(cap.get(cv2.CAP_PROP_FPS))\n",
    "# cap.isOpened()\n",
    "\n",
    "import cv2\n",
    "print(cv2.getBuildInformation())\n"
   ]
  },
  {
   "cell_type": "code",
   "execution_count": null,
   "metadata": {},
   "outputs": [],
   "source": []
  }
 ],
 "metadata": {
  "kernelspec": {
   "display_name": "Python 3",
   "language": "python",
   "name": "python3"
  },
  "language_info": {
   "codemirror_mode": {
    "name": "ipython",
    "version": 3
   },
   "file_extension": ".py",
   "mimetype": "text/x-python",
   "name": "python",
   "nbconvert_exporter": "python",
   "pygments_lexer": "ipython3",
   "version": "3.8.10"
  }
 },
 "nbformat": 4,
 "nbformat_minor": 2
}
